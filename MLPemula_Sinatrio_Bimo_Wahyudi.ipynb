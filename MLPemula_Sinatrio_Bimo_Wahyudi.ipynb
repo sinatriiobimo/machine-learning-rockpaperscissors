{
  "nbformat": 4,
  "nbformat_minor": 0,
  "metadata": {
    "colab": {
      "name": "MLPemula_Sinatrio_Bimo_Wahyudi.ipynb",
      "private_outputs": true,
      "provenance": [],
      "collapsed_sections": []
    },
    "kernelspec": {
      "name": "python3",
      "display_name": "Python 3"
    },
    "language_info": {
      "name": "python"
    },
    "accelerator": "GPU"
  },
  "cells": [
    {
      "cell_type": "markdown",
      "metadata": {
        "id": "nYLGvePbk7mU"
      },
      "source": [
        "Machine Learning Pemula - Sinatrio Bimo Wahyudi"
      ]
    },
    {
      "cell_type": "code",
      "metadata": {
        "id": "0cxLUx9VkR9a"
      },
      "source": [
        "import tensorflow as tf\n",
        "from tensorflow.keras.optimizers import RMSprop\n",
        "from tensorflow.keras.preprocessing.image import ImageDataGenerator\n",
        "from sklearn.model_selection import train_test_split"
      ],
      "execution_count": null,
      "outputs": []
    },
    {
      "cell_type": "code",
      "metadata": {
        "id": "L2S8ahswkwCS"
      },
      "source": [
        "!wget --no-check-certificate \\\n",
        "  https://dicodingacademy.blob.core.windows.net/picodiploma/ml_pemula_academy/rockpaperscissors.zip \\\n",
        "  -O /tmp/rockpaperscissors.zip"
      ],
      "execution_count": null,
      "outputs": []
    },
    {
      "cell_type": "markdown",
      "metadata": {
        "id": "xH6lqGifmZa5"
      },
      "source": [
        "Extract Datasets File"
      ]
    },
    {
      "cell_type": "code",
      "metadata": {
        "id": "B6XmJjqVmP7-"
      },
      "source": [
        "import zipfile,os\n",
        "local_zip = '/tmp/rockpaperscissors.zip'\n",
        "zip_ref = zipfile.ZipFile(local_zip, 'r')\n",
        "zip_ref.extractall('/tmp')\n",
        "zip_ref.close()"
      ],
      "execution_count": null,
      "outputs": []
    },
    {
      "cell_type": "markdown",
      "metadata": {
        "id": "vvmLcCr82STN"
      },
      "source": [
        "Data Preparation"
      ]
    },
    {
      "cell_type": "code",
      "metadata": {
        "id": "S7YV_9tfmYGD"
      },
      "source": [
        "base_dir = '/tmp/rockpaperscissors'\n",
        "train_dir = os.path.join(base_dir, 'train') \n",
        "val_dir = os.path.join(base_dir, 'val')"
      ],
      "execution_count": null,
      "outputs": []
    },
    {
      "cell_type": "code",
      "metadata": {
        "id": "7lUIaW3DDqMH"
      },
      "source": [
        "os.mkdir(train_dir)\n",
        "os.mkdir(val_dir)"
      ],
      "execution_count": null,
      "outputs": []
    },
    {
      "cell_type": "code",
      "metadata": {
        "id": "mTMl9geX8wzC"
      },
      "source": [
        "paper_directory = os.path.join(base_dir, 'paper')\n",
        "rock_directory = os.path.join(base_dir, 'rock')\n",
        "scissors_directory = os.path.join(base_dir, 'scissors')"
      ],
      "execution_count": null,
      "outputs": []
    },
    {
      "cell_type": "code",
      "metadata": {
        "id": "ol6RtoSh8_FJ"
      },
      "source": [
        "paper_train = os.path.join(train_dir, 'paper')\n",
        "rock_train = os.path.join(train_dir, 'rock')\n",
        "scissors_train = os.path.join(train_dir, 'scissors')"
      ],
      "execution_count": null,
      "outputs": []
    },
    {
      "cell_type": "code",
      "metadata": {
        "id": "3CdOpYFK9MSR"
      },
      "source": [
        "paper_val = os.path.join(val_dir, 'paper')\n",
        "rock_val = os.path.join(val_dir, 'rock')\n",
        "scissors_val = os.path.join(val_dir, 'scissors')"
      ],
      "execution_count": null,
      "outputs": []
    },
    {
      "cell_type": "code",
      "metadata": {
        "id": "VM_V-z6ZDzx_"
      },
      "source": [
        "os.mkdir(paper_train)\n",
        "os.mkdir(rock_train)\n",
        "os.mkdir(scissors_train)\n",
        "\n",
        "os.mkdir(paper_val)\n",
        "os.mkdir(rock_val)\n",
        "os.mkdir(scissors_val)"
      ],
      "execution_count": null,
      "outputs": []
    },
    {
      "cell_type": "code",
      "metadata": {
        "id": "nCsPPojM9kKR"
      },
      "source": [
        "paper_trainf, paper_valf = train_test_split(os.listdir(paper_directory), test_size=0.4)\n",
        "rock_trainf, rock_valf = train_test_split(os.listdir(rock_directory), test_size=0.4)\n",
        "scissors_trainf, scissors_valf = train_test_split(os.listdir(scissors_directory), test_size=0.4)"
      ],
      "execution_count": null,
      "outputs": []
    },
    {
      "cell_type": "code",
      "metadata": {
        "id": "x4MTu5MS-JtK"
      },
      "source": [
        "import shutil\n",
        "for filename in paper_trainf:\n",
        "  shutil.copy(os.path.join(paper_directory, filename), os.path.join(paper_train, filename))\n",
        "for filename in rock_trainf:\n",
        "  shutil.copy(os.path.join(rock_directory, filename), os.path.join(rock_train, filename))\n",
        "for filename in scissors_trainf:\n",
        "  shutil.copy(os.path.join(scissors_directory, filename), os.path.join(scissors_train, filename))\n",
        "for filename in paper_valf:\n",
        "  shutil.copy(os.path.join(paper_directory, filename), os.path.join(paper_val, filename))\n",
        "for filename in rock_valf:\n",
        "  shutil.copy(os.path.join(rock_directory, filename), os.path.join(rock_val, filename))\n",
        "for filename in scissors_valf:\n",
        "  shutil.copy(os.path.join(scissors_directory, filename), os.path.join(scissors_val, filename))"
      ],
      "execution_count": null,
      "outputs": []
    },
    {
      "cell_type": "code",
      "metadata": {
        "id": "PiUi3wQAqQui"
      },
      "source": [
        "train_datagen = ImageDataGenerator(\n",
        "    rescale=1./255,\n",
        "    rotation_range=20,\n",
        "    horizontal_flip=True,\n",
        "    shear_range=0.2,\n",
        "    fill_mode='nearest'\n",
        ")\n",
        "\n",
        "test_datagen = ImageDataGenerator(\n",
        "    rescale=1./255,\n",
        "    rotation_range=20,\n",
        "    horizontal_flip=True,\n",
        "    shear_range=0.2,\n",
        "    fill_mode='nearest'\n",
        ")"
      ],
      "execution_count": null,
      "outputs": []
    },
    {
      "cell_type": "code",
      "metadata": {
        "id": "bjwPY9eytMV6"
      },
      "source": [
        "train_generator = train_datagen.flow_from_directory(\n",
        "    train_dir,\n",
        "    target_size=(150,150),\n",
        "    batch_size=32,\n",
        "    class_mode='categorical'\n",
        ")\n",
        "\n",
        "val_generator = test_datagen.flow_from_directory(\n",
        "    val_dir,\n",
        "    target_size=(150,150),\n",
        "    batch_size=32,\n",
        "    class_mode='categorical'\n",
        ")"
      ],
      "execution_count": null,
      "outputs": []
    },
    {
      "cell_type": "markdown",
      "metadata": {
        "id": "SJqn-y2A2u08"
      },
      "source": [
        "CNN Architecture"
      ]
    },
    {
      "cell_type": "code",
      "metadata": {
        "id": "tLOkC6n8t8CA"
      },
      "source": [
        "model = tf.keras.models.Sequential([\n",
        "          tf.keras.layers.Conv2D(32, (3,3), activation='relu',input_shape=(150,150,3)),\n",
        "          tf.keras.layers.MaxPooling2D(2,2),\n",
        "          tf.keras.layers.Conv2D(64, (3,3), activation='relu'),\n",
        "          tf.keras.layers.MaxPooling2D(2,2),\n",
        "          tf.keras.layers.Dropout(0.3),\n",
        "          tf.keras.layers.Conv2D(128, (3,3), activation='relu'),\n",
        "          tf.keras.layers.MaxPooling2D(2,2),\n",
        "          tf.keras.layers.Conv2D(128, (3,3), activation='relu'),\n",
        "          tf.keras.layers.MaxPooling2D(2,2),\n",
        "          tf.keras.layers.Flatten(),\n",
        "          tf.keras.layers.Dense(512, activation='relu'),\n",
        "          tf.keras.layers.Dropout(0.5),\n",
        "          tf.keras.layers.Dense(3, activation='softmax')\n",
        "])"
      ],
      "execution_count": null,
      "outputs": []
    },
    {
      "cell_type": "code",
      "metadata": {
        "id": "NvbpGnSIwTHP"
      },
      "source": [
        "model.compile(\n",
        "    loss='categorical_crossentropy',\n",
        "    optimizer=tf.optimizers.Adam(),\n",
        "    metrics=['accuracy']\n",
        ")"
      ],
      "execution_count": null,
      "outputs": []
    },
    {
      "cell_type": "markdown",
      "metadata": {
        "id": "Ib86W3oh2y5c"
      },
      "source": [
        "Training Model"
      ]
    },
    {
      "cell_type": "code",
      "metadata": {
        "id": "evGjhgZuwx1m"
      },
      "source": [
        "model.fit(\n",
        "    train_generator,\n",
        "    steps_per_epoch = 25,\n",
        "    epochs = 20,\n",
        "    validation_data = val_generator,\n",
        "    validation_steps=5,\n",
        "    verbose=2)"
      ],
      "execution_count": null,
      "outputs": []
    },
    {
      "cell_type": "markdown",
      "metadata": {
        "id": "18rKLrS422fs"
      },
      "source": [
        "Uploader File"
      ]
    },
    {
      "cell_type": "code",
      "metadata": {
        "id": "XHMdJR1BxJPn"
      },
      "source": [
        "import numpy as np\n",
        "from google.colab import files\n",
        "from keras.preprocessing import image\n",
        "import matplotlib.pyplot as plt\n",
        "import matplotlib.image as mpimg\n",
        "import matplotlib.pyplot as plt\n",
        "%matplotlib inline\n",
        "\n",
        "uploaded = files.upload()\n",
        "\n",
        "for fn in uploaded.keys():\n",
        "  path = fn\n",
        "  img = image.load_img(path, target_size=(150,150))\n",
        "  imgplot = plt.imshow(img)\n",
        "  x = image.img_to_array(img)\n",
        "  x = np.expand_dims(x, axis=0)\n",
        "\n",
        "  images = np.vstack([x])\n",
        "  classes = model.predict(images, batch_size=10)\n",
        "\n",
        "  print(fn)\n",
        "\n",
        "  if classes[0][0] == 1.0:\n",
        "    print('paper')\n",
        "  elif classes[0][1] == 1.0:\n",
        "    print('rock')\n",
        "  elif classes[0][2] == 1.0:\n",
        "    print('scissors')"
      ],
      "execution_count": null,
      "outputs": []
    },
    {
      "cell_type": "code",
      "metadata": {
        "id": "-CM9b6xAIUv8"
      },
      "source": [
        ""
      ],
      "execution_count": null,
      "outputs": []
    }
  ]
}